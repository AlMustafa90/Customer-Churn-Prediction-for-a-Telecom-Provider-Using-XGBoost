{
 "cells": [
  {
   "cell_type": "markdown",
   "id": "5c86ab59-763e-4a7b-ab68-b1ee31f8a7e6",
   "metadata": {},
   "source": [
    "# Customer Churn Prediction for a Telecom Provider Using XGBoost\n",
    "##  Objective  \n",
    "The goal of this project was to build a predictive model to identify customers likely to churn, enabling proactive retention strategies for a telecom provider.\n",
    "\n",
    "---\n",
    "\n",
    "##  Methodology\n",
    "\n",
    "- **Initial Model**  \n",
    "  Started with *Logistic Regression* as a baseline. After evaluating its performance, it was found to be insufficient for capturing complex churn patterns.\n",
    "\n",
    "- **Final Model**  \n",
    "  Implemented *XGBoost Classifier*, a powerful gradient boosting algorithm known for handling structured data and imbalanced classes effectively.\n",
    "\n",
    "- **Hyperparameter Tuning**  \n",
    "  Used `GridSearchCV` to optimize key parameters such as `max_depth`, `learning_rate`, `n_estimators`, and `subsample`, resulting in improved model accuracy.\n",
    "\n",
    "\n",
    "##  Model Performance\n",
    "\n",
    "- **Best Cross-Validated Accuracy**: `75.00%`  \n",
    "- **Test Set Accuracy**: `68.33%`\n",
    "- the Model Does Well at predicting churn on Customer Category 2.0 (E-Service) and 3.0 (Plus Service): The   predicted churn distribution closely matches the actual churn\n",
    "- the Model Struggles : Customer Category 1.0 (Basic Service): The model seems to overpredict churn—it       shows more churned customers than actually exist. This could mean it's too sensitive to features common    in this group, when in reality these customers are more loyal.\n",
    "\n",
    "\n",
    "##  Churn Insights by Customer Category\n",
    "\n",
    "- **Category 1.0 (Basic Service)**  \n",
    "  High predicted churn, aligned with actual data. Customers in this group have short tenure and limited service usage—churn is expected.\n",
    "\n",
    "- **Category 3.0 (Plus Service)**  \n",
    "  Balanced predictions and low churn rates. These customers appear more loyal and satisfied with their service level.\n",
    "\n",
    "- **Category 4.0 (Total Service)**  \n",
    "  Surprisingly high churn despite being premium users. Analysis revealed limited service usage and short tenure, suggesting dissatisfaction with service quality.\n",
    "\n",
    " ## diagnostically\n",
    " - Unexpectedly, Customer Category 4.0 (Total Service)– has limited use of services (longmon, tollmon,loglong , etc.), which is not expected\n",
    "   given the high category segmentation and the presence of internet, e-bill, and equipment\n",
    "   features among these customers. They might be leaving due to problems with the service\n",
    "   or dissatisfaction with its quality. Their short tenure (number of months the customer\n",
    "   has been with the company) could support this.\n",
    " - In the same context, Category 1.0 (Basic Service):– has limited use of services, but this is totally normal and expected based on the short\n",
    "   subscription period (tenure) and the lower usage of services compared to the other three\n",
    "   classifications\n",
    "\n",
    "   \n",
    "###  Business Actions\n",
    "-  Investigate Category 4.0 Churn Causes These are high-value customers with unexpectedly low usage. Consider surveying them or analyzing service complaints, tenure, and satisfaction scores.\n",
    "\n",
    "- Reinforce loyalty for Category 3.0 Since Plus Service customers show loyalty, reinforce it with targeted retention offers or upsell strategies.\n",
    "\n",
    "- Monitor Category 1.0 Behavior Closely Basic Service users churn frequently, but that’s expected. Focus on onboarding and early engagement to extend tenure and reduce early exits\n",
    "-----------------------------------------------------------------------------------------------------------------------------------------------------------------\n",
    "\n"
   ]
  },
  {
   "cell_type": "markdown",
   "id": "2158b081-60da-4967-ad42-37f81d014e98",
   "metadata": {},
   "source": [
    "installing required packages"
   ]
  },
  {
   "cell_type": "code",
   "execution_count": 1,
   "id": "aa5bb1f6-79a5-46fc-ab90-6702a9b83415",
   "metadata": {
    "scrolled": true
   },
   "outputs": [
    {
     "name": "stdout",
     "output_type": "stream",
     "text": [
      "Defaulting to user installation because normal site-packages is not writeable\n",
      "Looking in links: /usr/share/pip-wheels\n",
      "Requirement already satisfied: scikit-learn in /opt/conda/envs/anaconda-2024.02-py310/lib/python3.10/site-packages (1.3.0)\n",
      "Requirement already satisfied: numpy>=1.17.3 in /opt/conda/envs/anaconda-2024.02-py310/lib/python3.10/site-packages (from scikit-learn) (1.26.4)\n",
      "Requirement already satisfied: scipy>=1.5.0 in /opt/conda/envs/anaconda-2024.02-py310/lib/python3.10/site-packages (from scikit-learn) (1.12.0)\n",
      "Requirement already satisfied: joblib>=1.1.1 in /opt/conda/envs/anaconda-2024.02-py310/lib/python3.10/site-packages (from scikit-learn) (1.2.0)\n",
      "Requirement already satisfied: threadpoolctl>=2.0.0 in /opt/conda/envs/anaconda-2024.02-py310/lib/python3.10/site-packages (from scikit-learn) (2.2.0)\n",
      "Defaulting to user installation because normal site-packages is not writeable\n",
      "Looking in links: /usr/share/pip-wheels\n",
      "Requirement already satisfied: seaborn in /opt/conda/envs/anaconda-2024.02-py310/lib/python3.10/site-packages (0.12.2)\n",
      "Requirement already satisfied: numpy!=1.24.0,>=1.17 in /opt/conda/envs/anaconda-2024.02-py310/lib/python3.10/site-packages (from seaborn) (1.26.4)\n",
      "Requirement already satisfied: pandas>=0.25 in /opt/conda/envs/anaconda-2024.02-py310/lib/python3.10/site-packages (from seaborn) (2.1.4)\n",
      "Requirement already satisfied: matplotlib!=3.6.1,>=3.1 in /opt/conda/envs/anaconda-2024.02-py310/lib/python3.10/site-packages (from seaborn) (3.8.0)\n",
      "Requirement already satisfied: contourpy>=1.0.1 in /opt/conda/envs/anaconda-2024.02-py310/lib/python3.10/site-packages (from matplotlib!=3.6.1,>=3.1->seaborn) (1.2.0)\n",
      "Requirement already satisfied: cycler>=0.10 in /opt/conda/envs/anaconda-2024.02-py310/lib/python3.10/site-packages (from matplotlib!=3.6.1,>=3.1->seaborn) (0.11.0)\n",
      "Requirement already satisfied: fonttools>=4.22.0 in /opt/conda/envs/anaconda-2024.02-py310/lib/python3.10/site-packages (from matplotlib!=3.6.1,>=3.1->seaborn) (4.25.0)\n",
      "Requirement already satisfied: kiwisolver>=1.0.1 in /opt/conda/envs/anaconda-2024.02-py310/lib/python3.10/site-packages (from matplotlib!=3.6.1,>=3.1->seaborn) (1.4.4)\n",
      "Requirement already satisfied: packaging>=20.0 in /opt/conda/envs/anaconda-2024.02-py310/lib/python3.10/site-packages (from matplotlib!=3.6.1,>=3.1->seaborn) (23.2)\n",
      "Requirement already satisfied: pillow>=6.2.0 in /opt/conda/envs/anaconda-2024.02-py310/lib/python3.10/site-packages (from matplotlib!=3.6.1,>=3.1->seaborn) (10.2.0)\n",
      "Requirement already satisfied: pyparsing>=2.3.1 in /opt/conda/envs/anaconda-2024.02-py310/lib/python3.10/site-packages (from matplotlib!=3.6.1,>=3.1->seaborn) (3.0.9)\n",
      "Requirement already satisfied: python-dateutil>=2.7 in /opt/conda/envs/anaconda-2024.02-py310/lib/python3.10/site-packages (from matplotlib!=3.6.1,>=3.1->seaborn) (2.8.2)\n",
      "Requirement already satisfied: pytz>=2020.1 in /opt/conda/envs/anaconda-2024.02-py310/lib/python3.10/site-packages (from pandas>=0.25->seaborn) (2023.3.post1)\n",
      "Requirement already satisfied: tzdata>=2022.1 in /opt/conda/envs/anaconda-2024.02-py310/lib/python3.10/site-packages (from pandas>=0.25->seaborn) (2023.3)\n",
      "Requirement already satisfied: six>=1.5 in /opt/conda/envs/anaconda-2024.02-py310/lib/python3.10/site-packages (from python-dateutil>=2.7->matplotlib!=3.6.1,>=3.1->seaborn) (1.16.0)\n",
      "Defaulting to user installation because normal site-packages is not writeable\n",
      "Looking in links: /usr/share/pip-wheels\n",
      "Requirement already satisfied: xgboost in ./.local/lib/python3.10/site-packages (3.0.5)\n",
      "Requirement already satisfied: numpy in /opt/conda/envs/anaconda-2024.02-py310/lib/python3.10/site-packages (from xgboost) (1.26.4)\n",
      "Requirement already satisfied: nvidia-nccl-cu12 in ./.local/lib/python3.10/site-packages (from xgboost) (2.28.3)\n",
      "Requirement already satisfied: scipy in /opt/conda/envs/anaconda-2024.02-py310/lib/python3.10/site-packages (from xgboost) (1.12.0)\n"
     ]
    }
   ],
   "source": [
    "!pip install scikit-learn\n",
    "!pip install seaborn\n",
    "!pip install xgboost"
   ]
  },
  {
   "cell_type": "markdown",
   "id": "1189ac70-f8f3-473b-8874-85dce26dfe49",
   "metadata": {},
   "source": [
    "importing required libraries"
   ]
  },
  {
   "cell_type": "code",
   "execution_count": 35,
   "id": "7cb740c1-11f6-4cf0-a216-252fefdbaf49",
   "metadata": {},
   "outputs": [],
   "source": [
    "import pandas as pd \n",
    "import numpy as np\n",
    "import matplotlib.pyplot as plt\n",
    "from sklearn.linear_model import LinearRegression\n",
    "from sklearn.linear_model import LogisticRegression\n",
    "from sklearn.model_selection import train_test_split\n",
    "from sklearn.preprocessing import StandardScaler\n",
    "from sklearn.metrics import accuracy_score\n",
    "from xgboost import XGBRegressor\n",
    "import seaborn as sns\n",
    "\n",
    "import warnings\n",
    "from sklearn.exceptions import ConvergenceWarning\n",
    "\n",
    "warnings.filterwarnings(\"ignore\", category=ConvergenceWarning)"
   ]
  },
  {
   "cell_type": "markdown",
   "id": "f047fd87-1d9f-423c-9d15-e3ecc9f804b4",
   "metadata": {},
   "source": [
    "## Readind data "
   ]
  },
  {
   "cell_type": "code",
   "execution_count": 36,
   "id": "46f17e21-1223-4894-8230-db2a981ea569",
   "metadata": {
    "scrolled": true
   },
   "outputs": [
    {
     "data": {
      "text/html": [
       "<div>\n",
       "<style scoped>\n",
       "    .dataframe tbody tr th:only-of-type {\n",
       "        vertical-align: middle;\n",
       "    }\n",
       "\n",
       "    .dataframe tbody tr th {\n",
       "        vertical-align: top;\n",
       "    }\n",
       "\n",
       "    .dataframe thead th {\n",
       "        text-align: right;\n",
       "    }\n",
       "</style>\n",
       "<table border=\"1\" class=\"dataframe\">\n",
       "  <thead>\n",
       "    <tr style=\"text-align: right;\">\n",
       "      <th></th>\n",
       "      <th>tenure</th>\n",
       "      <th>age</th>\n",
       "      <th>address</th>\n",
       "      <th>income</th>\n",
       "      <th>ed</th>\n",
       "      <th>employ</th>\n",
       "      <th>equip</th>\n",
       "      <th>callcard</th>\n",
       "      <th>wireless</th>\n",
       "      <th>longmon</th>\n",
       "      <th>tollmon</th>\n",
       "      <th>equipmon</th>\n",
       "      <th>cardmon</th>\n",
       "      <th>wiremon</th>\n",
       "      <th>longten</th>\n",
       "      <th>tollten</th>\n",
       "      <th>cardten</th>\n",
       "      <th>voice</th>\n",
       "      <th>pager</th>\n",
       "      <th>internet</th>\n",
       "      <th>callwait</th>\n",
       "      <th>confer</th>\n",
       "      <th>ebill</th>\n",
       "      <th>loglong</th>\n",
       "      <th>logtoll</th>\n",
       "      <th>lninc</th>\n",
       "      <th>custcat</th>\n",
       "      <th>churn</th>\n",
       "    </tr>\n",
       "  </thead>\n",
       "  <tbody>\n",
       "    <tr>\n",
       "      <th>0</th>\n",
       "      <td>11.0</td>\n",
       "      <td>33.0</td>\n",
       "      <td>7.0</td>\n",
       "      <td>136.0</td>\n",
       "      <td>5.0</td>\n",
       "      <td>5.0</td>\n",
       "      <td>0.0</td>\n",
       "      <td>1.0</td>\n",
       "      <td>1.0</td>\n",
       "      <td>4.40</td>\n",
       "      <td>20.75</td>\n",
       "      <td>0.0</td>\n",
       "      <td>15.25</td>\n",
       "      <td>35.7</td>\n",
       "      <td>42.00</td>\n",
       "      <td>211.45</td>\n",
       "      <td>125.0</td>\n",
       "      <td>1.0</td>\n",
       "      <td>1.0</td>\n",
       "      <td>0.0</td>\n",
       "      <td>1.0</td>\n",
       "      <td>1.0</td>\n",
       "      <td>0.0</td>\n",
       "      <td>1.482</td>\n",
       "      <td>3.033</td>\n",
       "      <td>4.913</td>\n",
       "      <td>4.0</td>\n",
       "      <td>1.0</td>\n",
       "    </tr>\n",
       "    <tr>\n",
       "      <th>1</th>\n",
       "      <td>33.0</td>\n",
       "      <td>33.0</td>\n",
       "      <td>12.0</td>\n",
       "      <td>33.0</td>\n",
       "      <td>2.0</td>\n",
       "      <td>0.0</td>\n",
       "      <td>0.0</td>\n",
       "      <td>0.0</td>\n",
       "      <td>0.0</td>\n",
       "      <td>9.45</td>\n",
       "      <td>0.00</td>\n",
       "      <td>0.0</td>\n",
       "      <td>0.00</td>\n",
       "      <td>0.0</td>\n",
       "      <td>288.80</td>\n",
       "      <td>0.00</td>\n",
       "      <td>0.0</td>\n",
       "      <td>0.0</td>\n",
       "      <td>0.0</td>\n",
       "      <td>0.0</td>\n",
       "      <td>0.0</td>\n",
       "      <td>0.0</td>\n",
       "      <td>0.0</td>\n",
       "      <td>2.246</td>\n",
       "      <td>3.240</td>\n",
       "      <td>3.497</td>\n",
       "      <td>1.0</td>\n",
       "      <td>1.0</td>\n",
       "    </tr>\n",
       "    <tr>\n",
       "      <th>2</th>\n",
       "      <td>23.0</td>\n",
       "      <td>30.0</td>\n",
       "      <td>9.0</td>\n",
       "      <td>30.0</td>\n",
       "      <td>1.0</td>\n",
       "      <td>2.0</td>\n",
       "      <td>0.0</td>\n",
       "      <td>0.0</td>\n",
       "      <td>0.0</td>\n",
       "      <td>6.30</td>\n",
       "      <td>0.00</td>\n",
       "      <td>0.0</td>\n",
       "      <td>0.00</td>\n",
       "      <td>0.0</td>\n",
       "      <td>157.05</td>\n",
       "      <td>0.00</td>\n",
       "      <td>0.0</td>\n",
       "      <td>0.0</td>\n",
       "      <td>0.0</td>\n",
       "      <td>0.0</td>\n",
       "      <td>0.0</td>\n",
       "      <td>1.0</td>\n",
       "      <td>0.0</td>\n",
       "      <td>1.841</td>\n",
       "      <td>3.240</td>\n",
       "      <td>3.401</td>\n",
       "      <td>3.0</td>\n",
       "      <td>0.0</td>\n",
       "    </tr>\n",
       "    <tr>\n",
       "      <th>3</th>\n",
       "      <td>38.0</td>\n",
       "      <td>35.0</td>\n",
       "      <td>5.0</td>\n",
       "      <td>76.0</td>\n",
       "      <td>2.0</td>\n",
       "      <td>10.0</td>\n",
       "      <td>1.0</td>\n",
       "      <td>1.0</td>\n",
       "      <td>1.0</td>\n",
       "      <td>6.05</td>\n",
       "      <td>45.00</td>\n",
       "      <td>50.1</td>\n",
       "      <td>23.25</td>\n",
       "      <td>64.9</td>\n",
       "      <td>239.55</td>\n",
       "      <td>1873.05</td>\n",
       "      <td>880.0</td>\n",
       "      <td>1.0</td>\n",
       "      <td>1.0</td>\n",
       "      <td>1.0</td>\n",
       "      <td>1.0</td>\n",
       "      <td>1.0</td>\n",
       "      <td>1.0</td>\n",
       "      <td>1.800</td>\n",
       "      <td>3.807</td>\n",
       "      <td>4.331</td>\n",
       "      <td>4.0</td>\n",
       "      <td>0.0</td>\n",
       "    </tr>\n",
       "    <tr>\n",
       "      <th>4</th>\n",
       "      <td>7.0</td>\n",
       "      <td>35.0</td>\n",
       "      <td>14.0</td>\n",
       "      <td>80.0</td>\n",
       "      <td>2.0</td>\n",
       "      <td>15.0</td>\n",
       "      <td>0.0</td>\n",
       "      <td>1.0</td>\n",
       "      <td>0.0</td>\n",
       "      <td>7.10</td>\n",
       "      <td>22.00</td>\n",
       "      <td>0.0</td>\n",
       "      <td>23.75</td>\n",
       "      <td>0.0</td>\n",
       "      <td>47.45</td>\n",
       "      <td>166.10</td>\n",
       "      <td>145.0</td>\n",
       "      <td>1.0</td>\n",
       "      <td>0.0</td>\n",
       "      <td>0.0</td>\n",
       "      <td>1.0</td>\n",
       "      <td>1.0</td>\n",
       "      <td>0.0</td>\n",
       "      <td>1.960</td>\n",
       "      <td>3.091</td>\n",
       "      <td>4.382</td>\n",
       "      <td>3.0</td>\n",
       "      <td>0.0</td>\n",
       "    </tr>\n",
       "  </tbody>\n",
       "</table>\n",
       "</div>"
      ],
      "text/plain": [
       "   tenure   age  address  income   ed  employ  equip  callcard  wireless  \\\n",
       "0    11.0  33.0      7.0   136.0  5.0     5.0    0.0       1.0       1.0   \n",
       "1    33.0  33.0     12.0    33.0  2.0     0.0    0.0       0.0       0.0   \n",
       "2    23.0  30.0      9.0    30.0  1.0     2.0    0.0       0.0       0.0   \n",
       "3    38.0  35.0      5.0    76.0  2.0    10.0    1.0       1.0       1.0   \n",
       "4     7.0  35.0     14.0    80.0  2.0    15.0    0.0       1.0       0.0   \n",
       "\n",
       "   longmon  tollmon  equipmon  cardmon  wiremon  longten  tollten  cardten  \\\n",
       "0     4.40    20.75       0.0    15.25     35.7    42.00   211.45    125.0   \n",
       "1     9.45     0.00       0.0     0.00      0.0   288.80     0.00      0.0   \n",
       "2     6.30     0.00       0.0     0.00      0.0   157.05     0.00      0.0   \n",
       "3     6.05    45.00      50.1    23.25     64.9   239.55  1873.05    880.0   \n",
       "4     7.10    22.00       0.0    23.75      0.0    47.45   166.10    145.0   \n",
       "\n",
       "   voice  pager  internet  callwait  confer  ebill  loglong  logtoll  lninc  \\\n",
       "0    1.0    1.0       0.0       1.0     1.0    0.0    1.482    3.033  4.913   \n",
       "1    0.0    0.0       0.0       0.0     0.0    0.0    2.246    3.240  3.497   \n",
       "2    0.0    0.0       0.0       0.0     1.0    0.0    1.841    3.240  3.401   \n",
       "3    1.0    1.0       1.0       1.0     1.0    1.0    1.800    3.807  4.331   \n",
       "4    1.0    0.0       0.0       1.0     1.0    0.0    1.960    3.091  4.382   \n",
       "\n",
       "   custcat  churn  \n",
       "0      4.0    1.0  \n",
       "1      1.0    1.0  \n",
       "2      3.0    0.0  \n",
       "3      4.0    0.0  \n",
       "4      3.0    0.0  "
      ]
     },
     "execution_count": 36,
     "metadata": {},
     "output_type": "execute_result"
    }
   ],
   "source": [
    "data = pd.read_csv(\"ChurnData (1).csv\")\n",
    "data.head()"
   ]
  },
  {
   "cell_type": "markdown",
   "id": "7c358403-74a0-4332-8623-2ef582c99f52",
   "metadata": {},
   "source": [
    "<div style=\"max-height:300px; overflow-y:auto; border:1px solid #ccc; padding:10px;\">\n",
    "\n",
    "                                  Dataset colums demonstration   \n",
    "\n",
    "</div>\n",
    "\n"
   ]
  },
  {
   "cell_type": "markdown",
   "id": "62b3bc16-a4f3-4372-96c8-501511cf6a57",
   "metadata": {},
   "source": [
    "<div style=\"max-height:300px; overflow-y:auto; border:1px solid #ccc; padding:10px;\">\n",
    "\n",
    "| Column      | Meaning |\n",
    "|-------------|---------|\n",
    "| **tenure**  | Number of months the customer has been with the company |\n",
    "| **age**     | Customer’s age |\n",
    "| **address** | Number of years the customer has lived at their current address |\n",
    "| **income**  | Annual income of the customer |\n",
    "| **ed**      | Education level (numeric code, e.g., 1 = less, 5 = higher education) |\n",
    "| **employ**  | Number of years the customer has been employed |\n",
    "| **equip**   | Whether the customer owns the company’s equipment (1 = yes, 0 = no) |\n",
    "| **callcard**| Whether the customer has a calling card service (1 = yes, 0 = no) |\n",
    "| **wireless**| Whether the customer has a wireless service (1 = yes, 0 = no) |\n",
    "| **longmon** | Average monthly long-distance charges |\n",
    "| **tollmon** | Average monthly toll-free charges |\n",
    "| **equipmon**| Average monthly equipment charges |\n",
    "| **cardmon** | Average monthly calling card charges |\n",
    "| **wiremon** | Average monthly wireless charges |\n",
    "| **longten** | Total long-distance charges over tenure |\n",
    "| **tollten** | Total toll-free charges over tenure |\n",
    "| **cardten** | Total calling card charges over tenure |\n",
    "| **voice**   | Whether the customer has voicemail service (1 = yes, 0 = no) |\n",
    "| **pager**   | Whether the customer has a pager service (1 = yes, 0 = no) |\n",
    "| **internet**| Whether the customer has internet service (1 = yes, 0 = no) |\n",
    "| **callwait**| Whether the customer has call waiting (1 = yes, 0 = no) |\n",
    "| **confer**  | Whether the customer has conference calling (1 = yes, 0 = no) |\n",
    "| **ebill**   | Whether the customer uses electronic billing (1 = yes, 0 = no) |\n",
    "| **loglong** | Log-transformed long-distance charges (used for normalization) |\n",
    "| **logtoll** | Log-transformed toll-free charges |\n",
    "| **lninc**   | Log-transformed income |\n",
    "| **custcat** | Customer category (categorical segmentation, e.g., 1–4 groups) |\n",
    "| **churn**   | Target variable: whether the customer churned (1 = yes, 0 = no) |\n",
    "\n",
    "</div>\n",
    "\n"
   ]
  },
  {
   "cell_type": "markdown",
   "id": "b38436eb-9194-4660-9695-dbedfc06d7f0",
   "metadata": {},
   "source": [
    "checking data information(null values, counts, data types )"
   ]
  },
  {
   "cell_type": "code",
   "execution_count": 37,
   "id": "e212691e-e3e1-4de2-bf33-9c55df900291",
   "metadata": {},
   "outputs": [
    {
     "name": "stdout",
     "output_type": "stream",
     "text": [
      "<class 'pandas.core.frame.DataFrame'>\n",
      "RangeIndex: 200 entries, 0 to 199\n",
      "Data columns (total 28 columns):\n",
      " #   Column    Non-Null Count  Dtype  \n",
      "---  ------    --------------  -----  \n",
      " 0   tenure    200 non-null    float64\n",
      " 1   age       200 non-null    float64\n",
      " 2   address   200 non-null    float64\n",
      " 3   income    200 non-null    float64\n",
      " 4   ed        200 non-null    float64\n",
      " 5   employ    200 non-null    float64\n",
      " 6   equip     200 non-null    float64\n",
      " 7   callcard  200 non-null    float64\n",
      " 8   wireless  200 non-null    float64\n",
      " 9   longmon   200 non-null    float64\n",
      " 10  tollmon   200 non-null    float64\n",
      " 11  equipmon  200 non-null    float64\n",
      " 12  cardmon   200 non-null    float64\n",
      " 13  wiremon   200 non-null    float64\n",
      " 14  longten   200 non-null    float64\n",
      " 15  tollten   200 non-null    float64\n",
      " 16  cardten   200 non-null    float64\n",
      " 17  voice     200 non-null    float64\n",
      " 18  pager     200 non-null    float64\n",
      " 19  internet  200 non-null    float64\n",
      " 20  callwait  200 non-null    float64\n",
      " 21  confer    200 non-null    float64\n",
      " 22  ebill     200 non-null    float64\n",
      " 23  loglong   200 non-null    float64\n",
      " 24  logtoll   200 non-null    float64\n",
      " 25  lninc     200 non-null    float64\n",
      " 26  custcat   200 non-null    float64\n",
      " 27  churn     200 non-null    float64\n",
      "dtypes: float64(28)\n",
      "memory usage: 43.9 KB\n",
      "None\n"
     ]
    }
   ],
   "source": [
    "print(data.info())"
   ]
  },
  {
   "cell_type": "markdown",
   "id": "5a4624f0-9d89-474a-b2b3-f819de9f0840",
   "metadata": {},
   "source": [
    "general info about the data"
   ]
  },
  {
   "cell_type": "markdown",
   "id": "894a71cc-e3ef-4908-9226-5504501f0b55",
   "metadata": {},
   "source": [
    "### Understanding relationships and feature selection"
   ]
  },
  {
   "cell_type": "markdown",
   "id": "765f1cf2-e7ba-4153-97d4-b06f035ecd8b",
   "metadata": {},
   "source": [
    "correlating the data set features with churn"
   ]
  },
  {
   "cell_type": "code",
   "execution_count": 38,
   "id": "6d4b6844-7b9e-49b6-ad1c-49ef77851494",
   "metadata": {
    "scrolled": true
   },
   "outputs": [
    {
     "data": {
      "text/plain": [
       "tenure     -0.376860\n",
       "age        -0.287697\n",
       "address    -0.260659\n",
       "income     -0.090790\n",
       "ed          0.216112\n",
       "employ     -0.337969\n",
       "equip       0.275284\n",
       "callcard   -0.311451\n",
       "wireless    0.174356\n",
       "longmon    -0.292026\n",
       "tollmon     0.014356\n",
       "equipmon    0.255348\n",
       "cardmon    -0.177163\n",
       "wiremon     0.177483\n",
       "longten    -0.294906\n",
       "tollten    -0.059482\n",
       "cardten    -0.228634\n",
       "voice       0.142315\n",
       "pager       0.124623\n",
       "internet    0.254838\n",
       "callwait   -0.052885\n",
       "confer     -0.081361\n",
       "ebill       0.254838\n",
       "loglong    -0.336869\n",
       "logtoll    -0.070156\n",
       "lninc      -0.117459\n",
       "custcat     0.014839\n",
       "Name: churn, dtype: float64"
      ]
     },
     "execution_count": 38,
     "metadata": {},
     "output_type": "execute_result"
    }
   ],
   "source": [
    "data_corr = data.corr()['churn'].drop('churn')\n",
    "data_corr"
   ]
  },
  {
   "cell_type": "markdown",
   "id": "84a57c23-563e-41f8-b6cb-d45c3c9bae65",
   "metadata": {},
   "source": [
    "<div style=\"max-height:300px; overflow-y:auto; border:1px solid #ccc; padding:10px;\">\n",
    "\n",
    "sorting correlation values: with the strong posative corrleation in the top, and the strong negative in the bottom\n",
    "\n",
    "</div>"
   ]
  },
  {
   "cell_type": "code",
   "execution_count": 39,
   "id": "42a4bb01-8c60-4f27-bae8-b6ecfa114fc2",
   "metadata": {},
   "outputs": [
    {
     "name": "stdout",
     "output_type": "stream",
     "text": [
      "equip       0.275284\n",
      "equipmon    0.255348\n",
      "internet    0.254838\n",
      "ebill       0.254838\n",
      "ed          0.216112\n",
      "wiremon     0.177483\n",
      "wireless    0.174356\n",
      "voice       0.142315\n",
      "pager       0.124623\n",
      "custcat     0.014839\n",
      "tollmon     0.014356\n",
      "callwait   -0.052885\n",
      "tollten    -0.059482\n",
      "logtoll    -0.070156\n",
      "confer     -0.081361\n",
      "income     -0.090790\n",
      "lninc      -0.117459\n",
      "cardmon    -0.177163\n",
      "cardten    -0.228634\n",
      "address    -0.260659\n",
      "age        -0.287697\n",
      "longmon    -0.292026\n",
      "longten    -0.294906\n",
      "callcard   -0.311451\n",
      "loglong    -0.336869\n",
      "employ     -0.337969\n",
      "tenure     -0.376860\n",
      "Name: churn, dtype: float64\n"
     ]
    }
   ],
   "source": [
    "data_corrs = data_corr.sort_values(ascending=False)\n",
    "print(data_corrs)"
   ]
  },
  {
   "cell_type": "markdown",
   "id": "8425facb-3a4d-4bef-af47-d3efb0031af0",
   "metadata": {},
   "source": [
    "<div style=\"max-height:300px; overflow-y:auto; border:1px solid #ccc; padding:10px;\">\n",
    "\n",
    "Identify the top features with the most effect on the customer_churn.\n",
    "\n",
    "</div>\n"
   ]
  },
  {
   "cell_type": "code",
   "execution_count": 40,
   "id": "f487daaf-954a-482a-a520-d4211b754897",
   "metadata": {},
   "outputs": [
    {
     "name": "stdout",
     "output_type": "stream",
     "text": [
      "features with a strong postive correlation significantly with churn\n",
      "equip       0.275284\n",
      "equipmon    0.255348\n",
      "internet    0.254838\n",
      "ebill       0.254838\n",
      "ed          0.216112\n",
      "wiremon     0.177483\n",
      "Name: churn, dtype: float64\n",
      "-------------------------------------------------------------------\n",
      "features with a strong negative correlation with churn\n",
      "longmon    -0.292026\n",
      "longten    -0.294906\n",
      "callcard   -0.311451\n",
      "loglong    -0.336869\n",
      "employ     -0.337969\n",
      "tenure     -0.376860\n",
      "Name: churn, dtype: float64\n"
     ]
    }
   ],
   "source": [
    "print(\"features with a strong postive correlation significantly with churn\")\n",
    "print(data_corrs.head(6))\n",
    "print(\"-------------------------------------------------------------------\")\n",
    "print(\"features with a strong negative correlation with churn\")\n",
    "print(data_corrs.tail(6))"
   ]
  },
  {
   "cell_type": "code",
   "execution_count": 82,
   "id": "c7bdd999-a20f-46e3-a048-44527f05b9ca",
   "metadata": {},
   "outputs": [
    {
     "data": {
      "image/png": "[encoded data removed]",
      "text/plain": [
       "<Figure size 1000x600 with 1 Axes>"
      ]
     },
     "metadata": {},
     "output_type": "display_data"
    }
   ],
   "source": [
    "data_corrs.plot(kind = 'barh', figsize=(10, 6))\n",
    "\n",
    "plt.title('corrleation between the data set features, and customer churn(features selection)')\n",
    "plt.xlabel('Correlation')\n",
    "plt.ylabel('Data set features')\n",
    "plt.show()"
   ]
  },
  {
   "cell_type": "markdown",
   "id": "e7105116-fe66-4ff3-9016-73f482634548",
   "metadata": {},
   "source": [
    "\n",
    "\n",
    "-------------------------------------------------------------------------------------------------------------------------\n",
    "\n",
    "## Preprocessing the data"
   ]
  },
  {
   "cell_type": "markdown",
   "id": "8c46b5aa-f9d7-4eb1-9947-363986e3bd33",
   "metadata": {},
   "source": [
    "### Feature scaling\n"
   ]
  },
  {
   "cell_type": "code",
   "execution_count": 43,
   "id": "fddba6a5-98a9-4843-a5b3-ed72198747b0",
   "metadata": {},
   "outputs": [
    {
     "name": "stdout",
     "output_type": "stream",
     "text": [
      "   tenure   age  address  income   ed  employ  equip  callcard  wireless  \\\n",
      "0    11.0  33.0      7.0   136.0  5.0     5.0    0.0       1.0       1.0   \n",
      "1    33.0  33.0     12.0    33.0  2.0     0.0    0.0       0.0       0.0   \n",
      "2    23.0  30.0      9.0    30.0  1.0     2.0    0.0       0.0       0.0   \n",
      "3    38.0  35.0      5.0    76.0  2.0    10.0    1.0       1.0       1.0   \n",
      "4     7.0  35.0     14.0    80.0  2.0    15.0    0.0       1.0       0.0   \n",
      "\n",
      "   longmon  tollmon  equipmon  cardmon  wiremon  longten  tollten  cardten  \\\n",
      "0     4.40    20.75       0.0    15.25     35.7    42.00   211.45    125.0   \n",
      "1     9.45     0.00       0.0     0.00      0.0   288.80     0.00      0.0   \n",
      "2     6.30     0.00       0.0     0.00      0.0   157.05     0.00      0.0   \n",
      "3     6.05    45.00      50.1    23.25     64.9   239.55  1873.05    880.0   \n",
      "4     7.10    22.00       0.0    23.75      0.0    47.45   166.10    145.0   \n",
      "\n",
      "   voice  pager  internet  callwait  confer  ebill  loglong  logtoll  lninc  \\\n",
      "0    1.0    1.0       0.0       1.0     1.0    0.0    1.482    3.033  4.913   \n",
      "1    0.0    0.0       0.0       0.0     0.0    0.0    2.246    3.240  3.497   \n",
      "2    0.0    0.0       0.0       0.0     1.0    0.0    1.841    3.240  3.401   \n",
      "3    1.0    1.0       1.0       1.0     1.0    1.0    1.800    3.807  4.331   \n",
      "4    1.0    0.0       0.0       1.0     1.0    0.0    1.960    3.091  4.382   \n",
      "\n",
      "   custcat  churn  \n",
      "0      4.0    1.0  \n",
      "1      1.0    1.0  \n",
      "2      3.0    0.0  \n",
      "3      4.0    0.0  \n",
      "4      3.0    0.0  \n"
     ]
    }
   ],
   "source": [
    "\n",
    "pd.set_option('display.max_columns', 28)\n",
    "\n",
    "# Show the first 5 rows with all 28 columns\n",
    "print(data.head(5))\n"
   ]
  },
  {
   "cell_type": "code",
   "execution_count": 44,
   "id": "0065982f-9dd3-4815-850d-c1c2eb4e615d",
   "metadata": {},
   "outputs": [],
   "source": [
    "continuous_fea = data[['tenure','age','income','longmon','logtoll','cardmon','employ','equipmon','wiremon','cardten','loglong','lninc','tollmon','longten','tollten']]\n",
    "\n",
    "scaler = StandardScaler()\n",
    "scaled_featuers = scaler.fit_transform(continuous_fea)\n",
    "\n",
    "#convert the scaled data to a data frame\n",
    "scaled_df = pd.DataFrame(scaled_featuers, columns=continuous_fea.columns)\n",
    "\n",
    "#join the to data set\n",
    "scaled_data = pd.concat([data.drop(['tenure','age','income','longmon','logtoll','cardmon','employ','equipmon','wiremon','cardten','loglong','lninc','tollmon','longten','tollten'],axis =1),scaled_df], axis = 1)\n"
   ]
  },
  {
   "cell_type": "code",
   "execution_count": 45,
   "id": "ca8e870b-b3d5-45bc-834d-0f2eff9b00d1",
   "metadata": {},
   "outputs": [
    {
     "data": {
      "text/html": [
       "<div>\n",
       "<style scoped>\n",
       "    .dataframe tbody tr th:only-of-type {\n",
       "        vertical-align: middle;\n",
       "    }\n",
       "\n",
       "    .dataframe tbody tr th {\n",
       "        vertical-align: top;\n",
       "    }\n",
       "\n",
       "    .dataframe thead th {\n",
       "        text-align: right;\n",
       "    }\n",
       "</style>\n",
       "<table border=\"1\" class=\"dataframe\">\n",
       "  <thead>\n",
       "    <tr style=\"text-align: right;\">\n",
       "      <th></th>\n",
       "      <th>address</th>\n",
       "      <th>ed</th>\n",
       "      <th>equip</th>\n",
       "      <th>callcard</th>\n",
       "      <th>wireless</th>\n",
       "      <th>voice</th>\n",
       "      <th>pager</th>\n",
       "      <th>internet</th>\n",
       "      <th>callwait</th>\n",
       "      <th>confer</th>\n",
       "      <th>ebill</th>\n",
       "      <th>custcat</th>\n",
       "      <th>churn</th>\n",
       "      <th>tenure</th>\n",
       "      <th>age</th>\n",
       "      <th>income</th>\n",
       "      <th>longmon</th>\n",
       "      <th>logtoll</th>\n",
       "      <th>cardmon</th>\n",
       "      <th>employ</th>\n",
       "      <th>equipmon</th>\n",
       "      <th>wiremon</th>\n",
       "      <th>cardten</th>\n",
       "      <th>loglong</th>\n",
       "      <th>lninc</th>\n",
       "      <th>tollmon</th>\n",
       "      <th>longten</th>\n",
       "      <th>tollten</th>\n",
       "    </tr>\n",
       "  </thead>\n",
       "  <tbody>\n",
       "    <tr>\n",
       "      <th>0</th>\n",
       "      <td>7.0</td>\n",
       "      <td>5.0</td>\n",
       "      <td>0.0</td>\n",
       "      <td>1.0</td>\n",
       "      <td>1.0</td>\n",
       "      <td>1.0</td>\n",
       "      <td>1.0</td>\n",
       "      <td>0.0</td>\n",
       "      <td>1.0</td>\n",
       "      <td>1.0</td>\n",
       "      <td>0.0</td>\n",
       "      <td>4.0</td>\n",
       "      <td>1.0</td>\n",
       "      <td>-1.135184</td>\n",
       "      <td>-0.625955</td>\n",
       "      <td>0.475142</td>\n",
       "      <td>-0.749227</td>\n",
       "      <td>-0.699872</td>\n",
       "      <td>0.060447</td>\n",
       "      <td>-0.584778</td>\n",
       "      <td>-0.809059</td>\n",
       "      <td>1.088262</td>\n",
       "      <td>-0.559744</td>\n",
       "      <td>-0.975096</td>\n",
       "      <td>1.281504</td>\n",
       "      <td>0.481266</td>\n",
       "      <td>-0.719407</td>\n",
       "      <td>-0.361328</td>\n",
       "    </tr>\n",
       "    <tr>\n",
       "      <th>1</th>\n",
       "      <td>12.0</td>\n",
       "      <td>2.0</td>\n",
       "      <td>0.0</td>\n",
       "      <td>0.0</td>\n",
       "      <td>0.0</td>\n",
       "      <td>0.0</td>\n",
       "      <td>0.0</td>\n",
       "      <td>0.0</td>\n",
       "      <td>0.0</td>\n",
       "      <td>0.0</td>\n",
       "      <td>0.0</td>\n",
       "      <td>1.0</td>\n",
       "      <td>1.0</td>\n",
       "      <td>-0.116043</td>\n",
       "      <td>-0.625955</td>\n",
       "      <td>-0.328861</td>\n",
       "      <td>-0.237186</td>\n",
       "      <td>0.038582</td>\n",
       "      <td>-0.973853</td>\n",
       "      <td>-1.144375</td>\n",
       "      <td>-0.809059</td>\n",
       "      <td>-0.566167</td>\n",
       "      <td>-0.692848</td>\n",
       "      <td>0.072267</td>\n",
       "      <td>-0.604814</td>\n",
       "      <td>-0.848463</td>\n",
       "      <td>-0.388016</td>\n",
       "      <td>-0.619832</td>\n",
       "    </tr>\n",
       "    <tr>\n",
       "      <th>2</th>\n",
       "      <td>9.0</td>\n",
       "      <td>1.0</td>\n",
       "      <td>0.0</td>\n",
       "      <td>0.0</td>\n",
       "      <td>0.0</td>\n",
       "      <td>0.0</td>\n",
       "      <td>0.0</td>\n",
       "      <td>0.0</td>\n",
       "      <td>0.0</td>\n",
       "      <td>1.0</td>\n",
       "      <td>0.0</td>\n",
       "      <td>3.0</td>\n",
       "      <td>0.0</td>\n",
       "      <td>-0.579289</td>\n",
       "      <td>-0.855944</td>\n",
       "      <td>-0.352278</td>\n",
       "      <td>-0.556578</td>\n",
       "      <td>0.038582</td>\n",
       "      <td>-0.973853</td>\n",
       "      <td>-0.920536</td>\n",
       "      <td>-0.809059</td>\n",
       "      <td>-0.566167</td>\n",
       "      <td>-0.692848</td>\n",
       "      <td>-0.482945</td>\n",
       "      <td>-0.732700</td>\n",
       "      <td>-0.848463</td>\n",
       "      <td>-0.564923</td>\n",
       "      <td>-0.619832</td>\n",
       "    </tr>\n",
       "    <tr>\n",
       "      <th>3</th>\n",
       "      <td>5.0</td>\n",
       "      <td>2.0</td>\n",
       "      <td>1.0</td>\n",
       "      <td>1.0</td>\n",
       "      <td>1.0</td>\n",
       "      <td>1.0</td>\n",
       "      <td>1.0</td>\n",
       "      <td>1.0</td>\n",
       "      <td>1.0</td>\n",
       "      <td>1.0</td>\n",
       "      <td>1.0</td>\n",
       "      <td>4.0</td>\n",
       "      <td>0.0</td>\n",
       "      <td>0.115580</td>\n",
       "      <td>-0.472629</td>\n",
       "      <td>0.006791</td>\n",
       "      <td>-0.581926</td>\n",
       "      <td>2.061302</td>\n",
       "      <td>0.603031</td>\n",
       "      <td>-0.025182</td>\n",
       "      <td>1.759098</td>\n",
       "      <td>2.441464</td>\n",
       "      <td>0.244205</td>\n",
       "      <td>-0.539152</td>\n",
       "      <td>0.506195</td>\n",
       "      <td>2.035286</td>\n",
       "      <td>-0.454146</td>\n",
       "      <td>1.670029</td>\n",
       "    </tr>\n",
       "    <tr>\n",
       "      <th>4</th>\n",
       "      <td>14.0</td>\n",
       "      <td>2.0</td>\n",
       "      <td>0.0</td>\n",
       "      <td>1.0</td>\n",
       "      <td>0.0</td>\n",
       "      <td>1.0</td>\n",
       "      <td>0.0</td>\n",
       "      <td>0.0</td>\n",
       "      <td>1.0</td>\n",
       "      <td>1.0</td>\n",
       "      <td>0.0</td>\n",
       "      <td>3.0</td>\n",
       "      <td>0.0</td>\n",
       "      <td>-1.320483</td>\n",
       "      <td>-0.472629</td>\n",
       "      <td>0.038015</td>\n",
       "      <td>-0.475463</td>\n",
       "      <td>-0.492962</td>\n",
       "      <td>0.636942</td>\n",
       "      <td>0.534415</td>\n",
       "      <td>-0.809059</td>\n",
       "      <td>-0.566167</td>\n",
       "      <td>-0.538448</td>\n",
       "      <td>-0.319809</td>\n",
       "      <td>0.574135</td>\n",
       "      <td>0.561370</td>\n",
       "      <td>-0.712089</td>\n",
       "      <td>-0.416770</td>\n",
       "    </tr>\n",
       "  </tbody>\n",
       "</table>\n",
       "</div>"
      ],
      "text/plain": [
       "   address   ed  equip  callcard  wireless  voice  pager  internet  callwait  \\\n",
       "0      7.0  5.0    0.0       1.0       1.0    1.0    1.0       0.0       1.0   \n",
       "1     12.0  2.0    0.0       0.0       0.0    0.0    0.0       0.0       0.0   \n",
       "2      9.0  1.0    0.0       0.0       0.0    0.0    0.0       0.0       0.0   \n",
       "3      5.0  2.0    1.0       1.0       1.0    1.0    1.0       1.0       1.0   \n",
       "4     14.0  2.0    0.0       1.0       0.0    1.0    0.0       0.0       1.0   \n",
       "\n",
       "   confer  ebill  custcat  churn    tenure       age    income   longmon  \\\n",
       "0     1.0    0.0      4.0    1.0 -1.135184 -0.625955  0.475142 -0.749227   \n",
       "1     0.0    0.0      1.0    1.0 -0.116043 -0.625955 -0.328861 -0.237186   \n",
       "2     1.0    0.0      3.0    0.0 -0.579289 -0.855944 -0.352278 -0.556578   \n",
       "3     1.0    1.0      4.0    0.0  0.115580 -0.472629  0.006791 -0.581926   \n",
       "4     1.0    0.0      3.0    0.0 -1.320483 -0.472629  0.038015 -0.475463   \n",
       "\n",
       "    logtoll   cardmon    employ  equipmon   wiremon   cardten   loglong  \\\n",
       "0 -0.699872  0.060447 -0.584778 -0.809059  1.088262 -0.559744 -0.975096   \n",
       "1  0.038582 -0.973853 -1.144375 -0.809059 -0.566167 -0.692848  0.072267   \n",
       "2  0.038582 -0.973853 -0.920536 -0.809059 -0.566167 -0.692848 -0.482945   \n",
       "3  2.061302  0.603031 -0.025182  1.759098  2.441464  0.244205 -0.539152   \n",
       "4 -0.492962  0.636942  0.534415 -0.809059 -0.566167 -0.538448 -0.319809   \n",
       "\n",
       "      lninc   tollmon   longten   tollten  \n",
       "0  1.281504  0.481266 -0.719407 -0.361328  \n",
       "1 -0.604814 -0.848463 -0.388016 -0.619832  \n",
       "2 -0.732700 -0.848463 -0.564923 -0.619832  \n",
       "3  0.506195  2.035286 -0.454146  1.670029  \n",
       "4  0.574135  0.561370 -0.712089 -0.416770  "
      ]
     },
     "execution_count": 45,
     "metadata": {},
     "output_type": "execute_result"
    }
   ],
   "source": [
    "scaled_data.head()"
   ]
  },
  {
   "cell_type": "markdown",
   "id": "1277df28-647c-443e-a00f-aa8b598d7a6d",
   "metadata": {},
   "source": [
    "\n",
    "-------------------------------------------------------------------------------------------------------------------------\n",
    "\n",
    "## Model development\n",
    "    \n",
    "-------------------------------------------------------------------------------------------------------------------------"
   ]
  },
  {
   "cell_type": "code",
   "execution_count": 46,
   "id": "8d68bb22-ee60-45f7-a984-bce185c5eb32",
   "metadata": {},
   "outputs": [],
   "source": [
    "x = scaled_data[['equip','equipmon','internet','ebill','wiremon','longmon','longten','callcard','loglong','employ','tenure','cardten','address','age','custcat','pager']]\n",
    "y= scaled_data['churn']"
   ]
  },
  {
   "cell_type": "code",
   "execution_count": 47,
   "id": "cfb6b721-10fc-416e-9d59-b1f72f097733",
   "metadata": {},
   "outputs": [],
   "source": [
    "x_trainset,x_testset, y_trainset,y_testset = train_test_split(x,y, test_size = 0.3, random_state=32)"
   ]
  },
  {
   "cell_type": "code",
   "execution_count": 48,
   "id": "75196f68-06eb-43fc-9ac2-bd822825f50c",
   "metadata": {},
   "outputs": [],
   "source": [
    "logRModel = LogisticRegression(solver='lbfgs', max_iter=1000)"
   ]
  },
  {
   "cell_type": "code",
   "execution_count": 49,
   "id": "8a3778e7-6bb8-47d2-8678-bfd706d2569a",
   "metadata": {},
   "outputs": [
    {
     "data": {
      "text/html": [
       "<style>#sk-container-id-3 {color: black;}#sk-container-id-3 pre{padding: 0;}#sk-container-id-3 div.sk-toggleable {background-color: white;}#sk-container-id-3 label.sk-toggleable__label {cursor: pointer;display: block;width: 100%;margin-bottom: 0;padding: 0.3em;box-sizing: border-box;text-align: center;}#sk-container-id-3 label.sk-toggleable__label-arrow:before {content: \"▸\";float: left;margin-right: 0.25em;color: #696969;}#sk-container-id-3 label.sk-toggleable__label-arrow:hover:before {color: black;}#sk-container-id-3 div.sk-estimator:hover label.sk-toggleable__label-arrow:before {color: black;}#sk-container-id-3 div.sk-toggleable__content {max-height: 0;max-width: 0;overflow: hidden;text-align: left;background-color: #f0f8ff;}#sk-container-id-3 div.sk-toggleable__content pre {margin: 0.2em;color: black;border-radius: 0.25em;background-color: #f0f8ff;}#sk-container-id-3 input.sk-toggleable__control:checked~div.sk-toggleable__content {max-height: 200px;max-width: 100%;overflow: auto;}#sk-container-id-3 input.sk-toggleable__control:checked~label.sk-toggleable__label-arrow:before {content: \"▾\";}#sk-container-id-3 div.sk-estimator input.sk-toggleable__control:checked~label.sk-toggleable__label {background-color: #d4ebff;}#sk-container-id-3 div.sk-label input.sk-toggleable__control:checked~label.sk-toggleable__label {background-color: #d4ebff;}#sk-container-id-3 input.sk-hidden--visually {border: 0;clip: rect(1px 1px 1px 1px);clip: rect(1px, 1px, 1px, 1px);height: 1px;margin: -1px;overflow: hidden;padding: 0;position: absolute;width: 1px;}#sk-container-id-3 div.sk-estimator {font-family: monospace;background-color: #f0f8ff;border: 1px dotted black;border-radius: 0.25em;box-sizing: border-box;margin-bottom: 0.5em;}#sk-container-id-3 div.sk-estimator:hover {background-color: #d4ebff;}#sk-container-id-3 div.sk-parallel-item::after {content: \"\";width: 100%;border-bottom: 1px solid gray;flex-grow: 1;}#sk-container-id-3 div.sk-label:hover label.sk-toggleable__label {background-color: #d4ebff;}#sk-container-id-3 div.sk-serial::before {content: \"\";position: absolute;border-left: 1px solid gray;box-sizing: border-box;top: 0;bottom: 0;left: 50%;z-index: 0;}#sk-container-id-3 div.sk-serial {display: flex;flex-direction: column;align-items: center;background-color: white;padding-right: 0.2em;padding-left: 0.2em;position: relative;}#sk-container-id-3 div.sk-item {position: relative;z-index: 1;}#sk-container-id-3 div.sk-parallel {display: flex;align-items: stretch;justify-content: center;background-color: white;position: relative;}#sk-container-id-3 div.sk-item::before, #sk-container-id-3 div.sk-parallel-item::before {content: \"\";position: absolute;border-left: 1px solid gray;box-sizing: border-box;top: 0;bottom: 0;left: 50%;z-index: -1;}#sk-container-id-3 div.sk-parallel-item {display: flex;flex-direction: column;z-index: 1;position: relative;background-color: white;}#sk-container-id-3 div.sk-parallel-item:first-child::after {align-self: flex-end;width: 50%;}#sk-container-id-3 div.sk-parallel-item:last-child::after {align-self: flex-start;width: 50%;}#sk-container-id-3 div.sk-parallel-item:only-child::after {width: 0;}#sk-container-id-3 div.sk-dashed-wrapped {border: 1px dashed gray;margin: 0 0.4em 0.5em 0.4em;box-sizing: border-box;padding-bottom: 0.4em;background-color: white;}#sk-container-id-3 div.sk-label label {font-family: monospace;font-weight: bold;display: inline-block;line-height: 1.2em;}#sk-container-id-3 div.sk-label-container {text-align: center;}#sk-container-id-3 div.sk-container {/* jupyter's `normalize.less` sets `[hidden] { display: none; }` but bootstrap.min.css set `[hidden] { display: none !important; }` so we also need the `!important` here to be able to override the default hidden behavior on the sphinx rendered scikit-learn.org. See: https://github.com/scikit-learn/scikit-learn/issues/21755 */display: inline-block !important;position: relative;}#sk-container-id-3 div.sk-text-repr-fallback {display: none;}</style><div id=\"sk-container-id-3\" class=\"sk-top-container\"><div class=\"sk-text-repr-fallback\"><pre>LogisticRegression(max_iter=1000)</pre><b>In a Jupyter environment, please rerun this cell to show the HTML representation or trust the notebook. <br />On GitHub, the HTML representation is unable to render, please try loading this page with nbviewer.org.</b></div><div class=\"sk-container\" hidden><div class=\"sk-item\"><div class=\"sk-estimator sk-toggleable\"><input class=\"sk-toggleable__control sk-hidden--visually\" id=\"sk-estimator-id-3\" type=\"checkbox\" checked><label for=\"sk-estimator-id-3\" class=\"sk-toggleable__label sk-toggleable__label-arrow\">LogisticRegression</label><div class=\"sk-toggleable__content\"><pre>LogisticRegression(max_iter=1000)</pre></div></div></div></div></div>"
      ],
      "text/plain": [
       "LogisticRegression(max_iter=1000)"
      ]
     },
     "execution_count": 49,
     "metadata": {},
     "output_type": "execute_result"
    }
   ],
   "source": [
    "logRModel.fit(x_trainset, y_trainset)"
   ]
  },
  {
   "cell_type": "code",
   "execution_count": 50,
   "id": "f3dee3ea-5b7b-4bf3-a8e8-ab17f07b9fa5",
   "metadata": {},
   "outputs": [],
   "source": [
    "logRM_pre = logRModel.predict(x_testset)"
   ]
  },
  {
   "cell_type": "markdown",
   "id": "f7dd6af6-84ab-47c4-83d9-b94ff2adf235",
   "metadata": {},
   "source": [
    "<div style=\"max-height:300px; overflow-y:auto; border:1px solid #ccc; padding:10px;\">\n",
    "\n",
    "Logistic regression was chosen due to its interpretability and effectiveness in binary classification tasks\n",
    "\n",
    "</div>\n",
    "\n"
   ]
  },
  {
   "cell_type": "markdown",
   "id": "7c8ba268-cb78-43ea-a850-44c23f438314",
   "metadata": {},
   "source": [
    "<div style=\"max-height:300px; overflow-y:auto; border:1px solid #ccc; padding:10px;\">\n",
    "\n",
    "the data has many features not well-scaled so using lbfgs solver : best for meduium data set and work in cases.\n",
    "</div>"
   ]
  },
  {
   "cell_type": "markdown",
   "id": "b1e6363c-8197-49b7-bda9-1320d044c5ef",
   "metadata": {},
   "source": [
    "\n",
    "-------------------------------------------------------------------------------------------------------------------------\n",
    "\n",
    "## Model Evaluation\n",
    "\n",
    "-------------------------------------------------------------------------------------------------------------------------"
   ]
  },
  {
   "cell_type": "code",
   "execution_count": 51,
   "id": "e0bfe1fd-4ae6-4474-bfd5-25ae5e6245d5",
   "metadata": {},
   "outputs": [
    {
     "name": "stdout",
     "output_type": "stream",
     "text": [
      "accuarcy: 66.67%\n"
     ]
    }
   ],
   "source": [
    "print(f\"accuarcy: {np.round(100*accuracy_score(y_testset,logRM_pre),2)}%\")"
   ]
  },
  {
   "cell_type": "markdown",
   "id": "895dddff-4dd0-463f-9469-73a6e82f8368",
   "metadata": {},
   "source": [
    "visualzing model accuarcy with coffusion matrix"
   ]
  },
  {
   "cell_type": "code",
   "execution_count": 53,
   "id": "ba27b12c-1ae0-47cc-89da-41eed7250cae",
   "metadata": {},
   "outputs": [
    {
     "data": {
      "image/png": "[encoded data removed]",
      "text/plain": [
       "<Figure size 640x480 with 2 Axes>"
      ]
     },
     "metadata": {},
     "output_type": "display_data"
    }
   ],
   "source": [
    "from sklearn.metrics import ConfusionMatrixDisplay\n",
    "\n",
    "ConfusionMatrixDisplay.from_estimator(logRModel, x_testset, y_testset)\n",
    "plt.title('Confusion Matrix')\n",
    "plt.show()\n"
   ]
  },
  {
   "cell_type": "markdown",
   "id": "a20014d7-e10b-4e77-8e3f-4f4235aa3974",
   "metadata": {},
   "source": [
    "\n",
    "\n",
    "\n",
    "-------------------------------------------------------------------\n",
    "\n",
    "### Model Refitting selecting all features to test accuracy\n",
    "\n"
   ]
  },
  {
   "cell_type": "code",
   "execution_count": 54,
   "id": "71cb3e88-8532-49d5-abde-703c2ca57972",
   "metadata": {},
   "outputs": [],
   "source": [
    "X = scaled_data.drop('churn',axis=1)\n",
    "Y= scaled_data['churn']"
   ]
  },
  {
   "cell_type": "code",
   "execution_count": 55,
   "id": "1f2a4b41-fdb1-4b3f-b57f-0a9f30f9a9f4",
   "metadata": {},
   "outputs": [],
   "source": [
    "X_trainset,X_testset, Y_trainset,Y_testset = train_test_split(X,Y, test_size = 0.3, random_state=32)"
   ]
  },
  {
   "cell_type": "code",
   "execution_count": 56,
   "id": "5aa8cc17-392b-4a79-8806-23670c4b4050",
   "metadata": {},
   "outputs": [],
   "source": [
    "logRModel1 = LogisticRegression(solver='lbfgs', max_iter=1000)"
   ]
  },
  {
   "cell_type": "code",
   "execution_count": 57,
   "id": "a4fd34d1-21a4-4506-8888-b7f01e452317",
   "metadata": {},
   "outputs": [
    {
     "data": {
      "text/html": [
       "<style>#sk-container-id-4 {color: black;}#sk-container-id-4 pre{padding: 0;}#sk-container-id-4 div.sk-toggleable {background-color: white;}#sk-container-id-4 label.sk-toggleable__label {cursor: pointer;display: block;width: 100%;margin-bottom: 0;padding: 0.3em;box-sizing: border-box;text-align: center;}#sk-container-id-4 label.sk-toggleable__label-arrow:before {content: \"▸\";float: left;margin-right: 0.25em;color: #696969;}#sk-container-id-4 label.sk-toggleable__label-arrow:hover:before {color: black;}#sk-container-id-4 div.sk-estimator:hover label.sk-toggleable__label-arrow:before {color: black;}#sk-container-id-4 div.sk-toggleable__content {max-height: 0;max-width: 0;overflow: hidden;text-align: left;background-color: #f0f8ff;}#sk-container-id-4 div.sk-toggleable__content pre {margin: 0.2em;color: black;border-radius: 0.25em;background-color: #f0f8ff;}#sk-container-id-4 input.sk-toggleable__control:checked~div.sk-toggleable__content {max-height: 200px;max-width: 100%;overflow: auto;}#sk-container-id-4 input.sk-toggleable__control:checked~label.sk-toggleable__label-arrow:before {content: \"▾\";}#sk-container-id-4 div.sk-estimator input.sk-toggleable__control:checked~label.sk-toggleable__label {background-color: #d4ebff;}#sk-container-id-4 div.sk-label input.sk-toggleable__control:checked~label.sk-toggleable__label {background-color: #d4ebff;}#sk-container-id-4 input.sk-hidden--visually {border: 0;clip: rect(1px 1px 1px 1px);clip: rect(1px, 1px, 1px, 1px);height: 1px;margin: -1px;overflow: hidden;padding: 0;position: absolute;width: 1px;}#sk-container-id-4 div.sk-estimator {font-family: monospace;background-color: #f0f8ff;border: 1px dotted black;border-radius: 0.25em;box-sizing: border-box;margin-bottom: 0.5em;}#sk-container-id-4 div.sk-estimator:hover {background-color: #d4ebff;}#sk-container-id-4 div.sk-parallel-item::after {content: \"\";width: 100%;border-bottom: 1px solid gray;flex-grow: 1;}#sk-container-id-4 div.sk-label:hover label.sk-toggleable__label {background-color: #d4ebff;}#sk-container-id-4 div.sk-serial::before {content: \"\";position: absolute;border-left: 1px solid gray;box-sizing: border-box;top: 0;bottom: 0;left: 50%;z-index: 0;}#sk-container-id-4 div.sk-serial {display: flex;flex-direction: column;align-items: center;background-color: white;padding-right: 0.2em;padding-left: 0.2em;position: relative;}#sk-container-id-4 div.sk-item {position: relative;z-index: 1;}#sk-container-id-4 div.sk-parallel {display: flex;align-items: stretch;justify-content: center;background-color: white;position: relative;}#sk-container-id-4 div.sk-item::before, #sk-container-id-4 div.sk-parallel-item::before {content: \"\";position: absolute;border-left: 1px solid gray;box-sizing: border-box;top: 0;bottom: 0;left: 50%;z-index: -1;}#sk-container-id-4 div.sk-parallel-item {display: flex;flex-direction: column;z-index: 1;position: relative;background-color: white;}#sk-container-id-4 div.sk-parallel-item:first-child::after {align-self: flex-end;width: 50%;}#sk-container-id-4 div.sk-parallel-item:last-child::after {align-self: flex-start;width: 50%;}#sk-container-id-4 div.sk-parallel-item:only-child::after {width: 0;}#sk-container-id-4 div.sk-dashed-wrapped {border: 1px dashed gray;margin: 0 0.4em 0.5em 0.4em;box-sizing: border-box;padding-bottom: 0.4em;background-color: white;}#sk-container-id-4 div.sk-label label {font-family: monospace;font-weight: bold;display: inline-block;line-height: 1.2em;}#sk-container-id-4 div.sk-label-container {text-align: center;}#sk-container-id-4 div.sk-container {/* jupyter's `normalize.less` sets `[hidden] { display: none; }` but bootstrap.min.css set `[hidden] { display: none !important; }` so we also need the `!important` here to be able to override the default hidden behavior on the sphinx rendered scikit-learn.org. See: https://github.com/scikit-learn/scikit-learn/issues/21755 */display: inline-block !important;position: relative;}#sk-container-id-4 div.sk-text-repr-fallback {display: none;}</style><div id=\"sk-container-id-4\" class=\"sk-top-container\"><div class=\"sk-text-repr-fallback\"><pre>LogisticRegression(max_iter=1000)</pre><b>In a Jupyter environment, please rerun this cell to show the HTML representation or trust the notebook. <br />On GitHub, the HTML representation is unable to render, please try loading this page with nbviewer.org.</b></div><div class=\"sk-container\" hidden><div class=\"sk-item\"><div class=\"sk-estimator sk-toggleable\"><input class=\"sk-toggleable__control sk-hidden--visually\" id=\"sk-estimator-id-4\" type=\"checkbox\" checked><label for=\"sk-estimator-id-4\" class=\"sk-toggleable__label sk-toggleable__label-arrow\">LogisticRegression</label><div class=\"sk-toggleable__content\"><pre>LogisticRegression(max_iter=1000)</pre></div></div></div></div></div>"
      ],
      "text/plain": [
       "LogisticRegression(max_iter=1000)"
      ]
     },
     "execution_count": 57,
     "metadata": {},
     "output_type": "execute_result"
    }
   ],
   "source": [
    "logRModel1.fit(X_trainset,Y_trainset)"
   ]
  },
  {
   "cell_type": "code",
   "execution_count": 58,
   "id": "8451767f-687e-4b28-921d-a2d231ddf0c9",
   "metadata": {},
   "outputs": [],
   "source": [
    "logRM1_pre = logRModel1.predict(X_testset)"
   ]
  },
  {
   "cell_type": "code",
   "execution_count": 59,
   "id": "c33e7672-e689-44fb-a962-93f02f9ac981",
   "metadata": {},
   "outputs": [
    {
     "name": "stdout",
     "output_type": "stream",
     "text": [
      "accuarcy score: 65.0%\n"
     ]
    }
   ],
   "source": [
    "print(f\"accuarcy score: {np.round(100*accuracy_score(Y_testset,logRM1_pre),2)}%\")"
   ]
  },
  {
   "cell_type": "markdown",
   "id": "a9a79bde-d3fd-419d-8960-4458b6940e66",
   "metadata": {},
   "source": [
    "<div style=\"max-height:300px; overflow-y:auto; border:1px solid #ccc; padding:10px;\">\n",
    "\n",
    "\n",
    "      This means feature selection was successful but, lets try another model to predict our customer churn.\n",
    "\n",
    "      \n",
    "</div>"
   ]
  },
  {
   "cell_type": "markdown",
   "id": "0c4998af-15f8-4eea-a2ff-aa70eaca8b0c",
   "metadata": {},
   "source": [
    "Tuning Logistic Regression Hyperparameters"
   ]
  },
  {
   "cell_type": "code",
   "execution_count": 60,
   "id": "f5a142d0-b7e1-413b-a2e8-e0e95ddb3622",
   "metadata": {
    "scrolled": true
   },
   "outputs": [
    {
     "name": "stdout",
     "output_type": "stream",
     "text": [
      "Best parameters: {'C': 1, 'max_iter': 1000, 'penalty': 'l1', 'solver': 'liblinear'}\n",
      "Best accuracy: 0.75 %\n"
     ]
    }
   ],
   "source": [
    "from sklearn.model_selection import GridSearchCV\n",
    "param_grid = {\n",
    "    'C': [0.01, 0.1, 1, 10, 100],             \n",
    "    'penalty': ['l1', 'l2'],                   \n",
    "    'solver': ['liblinear', 'saga'],         \n",
    "    'max_iter': [1000, 1500, 2000]           \n",
    "}\n",
    "grid = GridSearchCV(LogisticRegression(), param_grid, cv=5, scoring='accuracy')\n",
    "grid.fit(X_trainset, Y_trainset)\n",
    "\n",
    "print(\"Best parameters:\", grid.best_params_)\n",
    "print(\"Best accuracy:\", grid.best_score_ ,\"%\")"
   ]
  },
  {
   "cell_type": "markdown",
   "id": "ac39659a-4980-412a-9af2-7a749b5fe7bf",
   "metadata": {},
   "source": [
    "<div style=\"max-height:300px; overflow-y:auto; border:1px solid #ccc; padding:10px;\">\n",
    "\n",
    "\n",
    "parameters (C), with solver ('liblinear') provide the best fit for the data\n",
    "      \n",
    "</div>"
   ]
  },
  {
   "cell_type": "markdown",
   "id": "3ba597d4-199d-40ed-afcf-7f69e29e56ea",
   "metadata": {},
   "source": [
    "## Using a different model"
   ]
  },
  {
   "cell_type": "code",
   "execution_count": 61,
   "id": "a26840c8-8353-4ce8-8051-60c3ab495e29",
   "metadata": {},
   "outputs": [],
   "source": [
    "from sklearn.metrics import mean_squared_error, r2_score"
   ]
  },
  {
   "cell_type": "code",
   "execution_count": 62,
   "id": "e23f0596-0140-4981-9dc3-bbeb7ff73b35",
   "metadata": {},
   "outputs": [],
   "source": [
    "from xgboost import XGBClassifier\n",
    "\n",
    "xgb_clf = XGBClassifier()\n",
    "xgb_clf.fit(X_trainset, Y_trainset)\n",
    "\n",
    "xgbrm_pred = xgb_clf.predict(X_testset)\n"
   ]
  },
  {
   "cell_type": "code",
   "execution_count": 63,
   "id": "5a381b63-3448-4afd-a5fc-4a5935e53558",
   "metadata": {},
   "outputs": [
    {
     "name": "stdout",
     "output_type": "stream",
     "text": [
      "Model Accuracy: 0.683\n"
     ]
    }
   ],
   "source": [
    "accuracy = accuracy_score(Y_testset, xgbrm_pred)\n",
    "\n",
    "print(f\"Model Accuracy: {accuracy:.3f}\")"
   ]
  },
  {
   "cell_type": "code",
   "execution_count": 64,
   "id": "cb5bee28-8763-4573-91d0-703ebf1846e6",
   "metadata": {},
   "outputs": [
    {
     "data": {
      "image/png": "[encoded data removed]",
      "text/plain": [
       "<Figure size 1400x600 with 2 Axes>"
      ]
     },
     "metadata": {},
     "output_type": "display_data"
    }
   ],
   "source": [
    "\n",
    "# Combine actual, predicted, and customer category\n",
    "results_df = pd.DataFrame({\n",
    "    'ActualChurn': Y_testset,\n",
    "    'PredictedChurn': xgbrm_pred,\n",
    "    'CustomerCategory': X_testset['custcat']\n",
    "})\n",
    "\n",
    "# Count actual churns by category\n",
    "actual_churn = results_df.groupby(['CustomerCategory', 'ActualChurn']).size().unstack(fill_value=0)\n",
    "predicted_churn = results_df.groupby(['CustomerCategory', 'PredictedChurn']).size().unstack(fill_value=0)\n",
    "\n",
    "# Plot side-by-side stacked bars\n",
    "fig, axes = plt.subplots(1, 2, figsize=(14, 6), sharey=True)\n",
    "\n",
    "# Actual churn\n",
    "actual_churn.plot(kind='bar', stacked=True, ax=axes[0], color=['skyblue', 'tomato'])\n",
    "axes[0].set_title('Actual Churn by Customer Category')\n",
    "axes[0].set_xlabel('Customer Category')\n",
    "axes[0].set_ylabel('Customer Count')\n",
    "axes[0].legend(['Non-Churned', 'Churned'])\n",
    "axes[0].grid(True)\n",
    "\n",
    "# Predicted churn\n",
    "predicted_churn.plot(kind='bar', stacked=True, ax=axes[1], color=['skyblue', 'tomato'])\n",
    "axes[1].set_title('Predicted Churn by Customer Category')\n",
    "axes[1].set_xlabel('Customer Category')\n",
    "axes[1].legend(['Non-Churned', 'Churned'])\n",
    "axes[1].grid(True)\n",
    "\n",
    "plt.tight_layout()\n",
    "plt.show()\n"
   ]
  },
  {
   "cell_type": "markdown",
   "id": "44cc312c-dec7-45f8-ae03-65c0855d2d1b",
   "metadata": {},
   "source": [
    "<div style=\"max-height:300px; overflow-y:auto; border:1px solid #ccc; padding:10px;\">\n",
    "    \n",
    "- the Model Does Well at predicting churn on\n",
    "  Customer Category 2.0 (E-Service) and 3.0 (Plus Service): The \n",
    "  predicted churn distribution closely matches the actual churn\n",
    "    \n",
    "- the Model Struggles : Customer Category 1.0 (Basic Service):       The model seems to overpredict churn—it shows more churned         customers than actually exist. This could mean it's too            sensitive to features common in this group,\n",
    "  when in reality these customers are more loyal.\n",
    "\n",
    "</div>"
   ]
  },
  {
   "cell_type": "markdown",
   "id": "9913015d-0f75-4bc1-95b3-a8c8c600f0bb",
   "metadata": {},
   "source": [
    "### Improve XGB Model accuracy"
   ]
  },
  {
   "cell_type": "markdown",
   "id": "e283e21a-e3cf-4212-b3e5-5a9dd9481e22",
   "metadata": {},
   "source": [
    "run  GridSearchCV to Turn Hyperparameter, and extract the best estimator."
   ]
  },
  {
   "cell_type": "code",
   "execution_count": 65,
   "id": "b4eef822-6017-4bc5-bcd3-c3d4b146b6ab",
   "metadata": {},
   "outputs": [
    {
     "data": {
      "text/html": [
       "<style>#sk-container-id-5 {color: black;}#sk-container-id-5 pre{padding: 0;}#sk-container-id-5 div.sk-toggleable {background-color: white;}#sk-container-id-5 label.sk-toggleable__label {cursor: pointer;display: block;width: 100%;margin-bottom: 0;padding: 0.3em;box-sizing: border-box;text-align: center;}#sk-container-id-5 label.sk-toggleable__label-arrow:before {content: \"▸\";float: left;margin-right: 0.25em;color: #696969;}#sk-container-id-5 label.sk-toggleable__label-arrow:hover:before {color: black;}#sk-container-id-5 div.sk-estimator:hover label.sk-toggleable__label-arrow:before {color: black;}#sk-container-id-5 div.sk-toggleable__content {max-height: 0;max-width: 0;overflow: hidden;text-align: left;background-color: #f0f8ff;}#sk-container-id-5 div.sk-toggleable__content pre {margin: 0.2em;color: black;border-radius: 0.25em;background-color: #f0f8ff;}#sk-container-id-5 input.sk-toggleable__control:checked~div.sk-toggleable__content {max-height: 200px;max-width: 100%;overflow: auto;}#sk-container-id-5 input.sk-toggleable__control:checked~label.sk-toggleable__label-arrow:before {content: \"▾\";}#sk-container-id-5 div.sk-estimator input.sk-toggleable__control:checked~label.sk-toggleable__label {background-color: #d4ebff;}#sk-container-id-5 div.sk-label input.sk-toggleable__control:checked~label.sk-toggleable__label {background-color: #d4ebff;}#sk-container-id-5 input.sk-hidden--visually {border: 0;clip: rect(1px 1px 1px 1px);clip: rect(1px, 1px, 1px, 1px);height: 1px;margin: -1px;overflow: hidden;padding: 0;position: absolute;width: 1px;}#sk-container-id-5 div.sk-estimator {font-family: monospace;background-color: #f0f8ff;border: 1px dotted black;border-radius: 0.25em;box-sizing: border-box;margin-bottom: 0.5em;}#sk-container-id-5 div.sk-estimator:hover {background-color: #d4ebff;}#sk-container-id-5 div.sk-parallel-item::after {content: \"\";width: 100%;border-bottom: 1px solid gray;flex-grow: 1;}#sk-container-id-5 div.sk-label:hover label.sk-toggleable__label {background-color: #d4ebff;}#sk-container-id-5 div.sk-serial::before {content: \"\";position: absolute;border-left: 1px solid gray;box-sizing: border-box;top: 0;bottom: 0;left: 50%;z-index: 0;}#sk-container-id-5 div.sk-serial {display: flex;flex-direction: column;align-items: center;background-color: white;padding-right: 0.2em;padding-left: 0.2em;position: relative;}#sk-container-id-5 div.sk-item {position: relative;z-index: 1;}#sk-container-id-5 div.sk-parallel {display: flex;align-items: stretch;justify-content: center;background-color: white;position: relative;}#sk-container-id-5 div.sk-item::before, #sk-container-id-5 div.sk-parallel-item::before {content: \"\";position: absolute;border-left: 1px solid gray;box-sizing: border-box;top: 0;bottom: 0;left: 50%;z-index: -1;}#sk-container-id-5 div.sk-parallel-item {display: flex;flex-direction: column;z-index: 1;position: relative;background-color: white;}#sk-container-id-5 div.sk-parallel-item:first-child::after {align-self: flex-end;width: 50%;}#sk-container-id-5 div.sk-parallel-item:last-child::after {align-self: flex-start;width: 50%;}#sk-container-id-5 div.sk-parallel-item:only-child::after {width: 0;}#sk-container-id-5 div.sk-dashed-wrapped {border: 1px dashed gray;margin: 0 0.4em 0.5em 0.4em;box-sizing: border-box;padding-bottom: 0.4em;background-color: white;}#sk-container-id-5 div.sk-label label {font-family: monospace;font-weight: bold;display: inline-block;line-height: 1.2em;}#sk-container-id-5 div.sk-label-container {text-align: center;}#sk-container-id-5 div.sk-container {/* jupyter's `normalize.less` sets `[hidden] { display: none; }` but bootstrap.min.css set `[hidden] { display: none !important; }` so we also need the `!important` here to be able to override the default hidden behavior on the sphinx rendered scikit-learn.org. See: https://github.com/scikit-learn/scikit-learn/issues/21755 */display: inline-block !important;position: relative;}#sk-container-id-5 div.sk-text-repr-fallback {display: none;}</style><div id=\"sk-container-id-5\" class=\"sk-top-container\"><div class=\"sk-text-repr-fallback\"><pre>GridSearchCV(cv=5,\n",
       "             estimator=XGBClassifier(base_score=None, booster=None,\n",
       "                                     callbacks=None, colsample_bylevel=None,\n",
       "                                     colsample_bynode=None,\n",
       "                                     colsample_bytree=None, device=None,\n",
       "                                     early_stopping_rounds=None,\n",
       "                                     enable_categorical=False, eval_metric=None,\n",
       "                                     feature_types=None, feature_weights=None,\n",
       "                                     gamma=None, grow_policy=None,\n",
       "                                     importance_type=None,\n",
       "                                     interaction_constraints=Non...\n",
       "                                     max_cat_threshold=None,\n",
       "                                     max_cat_to_onehot=None,\n",
       "                                     max_delta_step=None, max_depth=None,\n",
       "                                     max_leaves=None, min_child_weight=None,\n",
       "                                     missing=nan, monotone_constraints=None,\n",
       "                                     multi_strategy=None, n_estimators=None,\n",
       "                                     n_jobs=None, num_parallel_tree=None, ...),\n",
       "             param_grid={&#x27;learning_rate&#x27;: [0.01, 0.1, 0.2],\n",
       "                         &#x27;max_depth&#x27;: [3, 5, 7], &#x27;n_estimators&#x27;: [100, 200],\n",
       "                         &#x27;subsample&#x27;: [0.8, 1.0]},\n",
       "             scoring=&#x27;accuracy&#x27;)</pre><b>In a Jupyter environment, please rerun this cell to show the HTML representation or trust the notebook. <br />On GitHub, the HTML representation is unable to render, please try loading this page with nbviewer.org.</b></div><div class=\"sk-container\" hidden><div class=\"sk-item sk-dashed-wrapped\"><div class=\"sk-label-container\"><div class=\"sk-label sk-toggleable\"><input class=\"sk-toggleable__control sk-hidden--visually\" id=\"sk-estimator-id-5\" type=\"checkbox\" ><label for=\"sk-estimator-id-5\" class=\"sk-toggleable__label sk-toggleable__label-arrow\">GridSearchCV</label><div class=\"sk-toggleable__content\"><pre>GridSearchCV(cv=5,\n",
       "             estimator=XGBClassifier(base_score=None, booster=None,\n",
       "                                     callbacks=None, colsample_bylevel=None,\n",
       "                                     colsample_bynode=None,\n",
       "                                     colsample_bytree=None, device=None,\n",
       "                                     early_stopping_rounds=None,\n",
       "                                     enable_categorical=False, eval_metric=None,\n",
       "                                     feature_types=None, feature_weights=None,\n",
       "                                     gamma=None, grow_policy=None,\n",
       "                                     importance_type=None,\n",
       "                                     interaction_constraints=Non...\n",
       "                                     max_cat_threshold=None,\n",
       "                                     max_cat_to_onehot=None,\n",
       "                                     max_delta_step=None, max_depth=None,\n",
       "                                     max_leaves=None, min_child_weight=None,\n",
       "                                     missing=nan, monotone_constraints=None,\n",
       "                                     multi_strategy=None, n_estimators=None,\n",
       "                                     n_jobs=None, num_parallel_tree=None, ...),\n",
       "             param_grid={&#x27;learning_rate&#x27;: [0.01, 0.1, 0.2],\n",
       "                         &#x27;max_depth&#x27;: [3, 5, 7], &#x27;n_estimators&#x27;: [100, 200],\n",
       "                         &#x27;subsample&#x27;: [0.8, 1.0]},\n",
       "             scoring=&#x27;accuracy&#x27;)</pre></div></div></div><div class=\"sk-parallel\"><div class=\"sk-parallel-item\"><div class=\"sk-item\"><div class=\"sk-label-container\"><div class=\"sk-label sk-toggleable\"><input class=\"sk-toggleable__control sk-hidden--visually\" id=\"sk-estimator-id-6\" type=\"checkbox\" ><label for=\"sk-estimator-id-6\" class=\"sk-toggleable__label sk-toggleable__label-arrow\">estimator: XGBClassifier</label><div class=\"sk-toggleable__content\"><pre>XGBClassifier(base_score=None, booster=None, callbacks=None,\n",
       "              colsample_bylevel=None, colsample_bynode=None,\n",
       "              colsample_bytree=None, device=None, early_stopping_rounds=None,\n",
       "              enable_categorical=False, eval_metric=None, feature_types=None,\n",
       "              feature_weights=None, gamma=None, grow_policy=None,\n",
       "              importance_type=None, interaction_constraints=None,\n",
       "              learning_rate=None, max_bin=None, max_cat_threshold=None,\n",
       "              max_cat_to_onehot=None, max_delta_step=None, max_depth=None,\n",
       "              max_leaves=None, min_child_weight=None, missing=nan,\n",
       "              monotone_constraints=None, multi_strategy=None, n_estimators=None,\n",
       "              n_jobs=None, num_parallel_tree=None, ...)</pre></div></div></div><div class=\"sk-serial\"><div class=\"sk-item\"><div class=\"sk-estimator sk-toggleable\"><input class=\"sk-toggleable__control sk-hidden--visually\" id=\"sk-estimator-id-7\" type=\"checkbox\" ><label for=\"sk-estimator-id-7\" class=\"sk-toggleable__label sk-toggleable__label-arrow\">XGBClassifier</label><div class=\"sk-toggleable__content\"><pre>XGBClassifier(base_score=None, booster=None, callbacks=None,\n",
       "              colsample_bylevel=None, colsample_bynode=None,\n",
       "              colsample_bytree=None, device=None, early_stopping_rounds=None,\n",
       "              enable_categorical=False, eval_metric=None, feature_types=None,\n",
       "              feature_weights=None, gamma=None, grow_policy=None,\n",
       "              importance_type=None, interaction_constraints=None,\n",
       "              learning_rate=None, max_bin=None, max_cat_threshold=None,\n",
       "              max_cat_to_onehot=None, max_delta_step=None, max_depth=None,\n",
       "              max_leaves=None, min_child_weight=None, missing=nan,\n",
       "              monotone_constraints=None, multi_strategy=None, n_estimators=None,\n",
       "              n_jobs=None, num_parallel_tree=None, ...)</pre></div></div></div></div></div></div></div></div></div></div>"
      ],
      "text/plain": [
       "GridSearchCV(cv=5,\n",
       "             estimator=XGBClassifier(base_score=None, booster=None,\n",
       "                                     callbacks=None, colsample_bylevel=None,\n",
       "                                     colsample_bynode=None,\n",
       "                                     colsample_bytree=None, device=None,\n",
       "                                     early_stopping_rounds=None,\n",
       "                                     enable_categorical=False, eval_metric=None,\n",
       "                                     feature_types=None, feature_weights=None,\n",
       "                                     gamma=None, grow_policy=None,\n",
       "                                     importance_type=None,\n",
       "                                     interaction_constraints=Non...\n",
       "                                     max_cat_threshold=None,\n",
       "                                     max_cat_to_onehot=None,\n",
       "                                     max_delta_step=None, max_depth=None,\n",
       "                                     max_leaves=None, min_child_weight=None,\n",
       "                                     missing=nan, monotone_constraints=None,\n",
       "                                     multi_strategy=None, n_estimators=None,\n",
       "                                     n_jobs=None, num_parallel_tree=None, ...),\n",
       "             param_grid={'learning_rate': [0.01, 0.1, 0.2],\n",
       "                         'max_depth': [3, 5, 7], 'n_estimators': [100, 200],\n",
       "                         'subsample': [0.8, 1.0]},\n",
       "             scoring='accuracy')"
      ]
     },
     "execution_count": 65,
     "metadata": {},
     "output_type": "execute_result"
    }
   ],
   "source": [
    "\n",
    "param_grid = {\n",
    "    'max_depth': [3, 5, 7],\n",
    "    'learning_rate': [0.01, 0.1, 0.2],\n",
    "    'n_estimators': [100, 200],\n",
    "    'subsample': [0.8, 1.0]\n",
    "}\n",
    "\n",
    "grid = GridSearchCV(XGBClassifier(), param_grid, cv=5, scoring='accuracy')\n",
    "grid.fit(X_trainset, Y_trainset)\n"
   ]
  },
  {
   "cell_type": "code",
   "execution_count": 71,
   "id": "631cfa46-c104-4134-8740-b03dc834acae",
   "metadata": {
    "scrolled": true
   },
   "outputs": [
    {
     "name": "stdout",
     "output_type": "stream",
     "text": [
      "Best Estimator:\n",
      " XGBClassifier(base_score=None, booster=None, callbacks=None,\n",
      "              colsample_bylevel=None, colsample_bynode=None,\n",
      "              colsample_bytree=None, device=None, early_stopping_rounds=None,\n",
      "              enable_categorical=False, eval_metric=None, feature_types=None,\n",
      "              feature_weights=None, gamma=None, grow_policy=None,\n",
      "              importance_type=None, interaction_constraints=None,\n",
      "              learning_rate=0.01, max_bin=None, max_cat_threshold=None,\n",
      "              max_cat_to_onehot=None, max_delta_step=None, max_depth=3,\n",
      "              max_leaves=None, min_child_weight=None, missing=nan,\n",
      "              monotone_constraints=None, multi_strategy=None, n_estimators=100,\n",
      "              n_jobs=None, num_parallel_tree=None, ...)\n",
      "Best Parameters:\n",
      " {'learning_rate': 0.01, 'max_depth': 3, 'n_estimators': 100, 'subsample': 0.8}\n",
      "Best Cross-Validated Accuracy: 0.7500\n"
     ]
    }
   ],
   "source": [
    "best_model = grid.best_estimator_\n",
    "print(\"Best Estimator:\\n\", best_model)\n",
    "\n",
    "best_params = grid.best_params_\n",
    "print(\"Best Parameters:\\n\", best_params)\n",
    "\n",
    "best_score = grid.best_score_\n",
    "print(f\"Best Cross-Validated Accuracy: {best_score:.4f}\")\n"
   ]
  },
  {
   "cell_type": "code",
   "execution_count": 72,
   "id": "afac3ef8-62c6-45a9-a210-469d892e2711",
   "metadata": {},
   "outputs": [],
   "source": [
    "xgb_best_pred = best_model.predict(X_testset)"
   ]
  },
  {
   "cell_type": "code",
   "execution_count": 73,
   "id": "6d997743-c861-4b9d-901d-34e7de58e7a7",
   "metadata": {},
   "outputs": [
    {
     "name": "stdout",
     "output_type": "stream",
     "text": [
      "Test Accuracy: 0.7\n"
     ]
    }
   ],
   "source": [
    "print(\"Test Accuracy:\", accuracy_score(Y_testset, xgb_best_pred))"
   ]
  },
  {
   "cell_type": "markdown",
   "id": "bde3f3cb-6371-4727-ae44-574b3316aec0",
   "metadata": {},
   "source": [
    "Confusion Matrix on XGB model"
   ]
  },
  {
   "cell_type": "code",
   "execution_count": 84,
   "id": "fd657486-4fa1-470a-b7d8-966b4b308f09",
   "metadata": {},
   "outputs": [
    {
     "data": {
      "image/png": "[encoded data removed]",
      "text/plain": [
       "<Figure size 640x480 with 2 Axes>"
      ]
     },
     "metadata": {},
     "output_type": "display_data"
    }
   ],
   "source": [
    "from sklearn.metrics import ConfusionMatrixDisplay\n",
    "\n",
    "ConfusionMatrixDisplay.from_estimator(grid ,X_testset, Y_testset)\n",
    "plt.title('Confusion Matrix')\n",
    "plt.show()\n"
   ]
  },
  {
   "cell_type": "markdown",
   "id": "2022f1dd-5170-4356-a0cb-f4f179c3575d",
   "metadata": {},
   "source": [
    "<div style=\"max-height:300px; overflow-y:auto; border:1px solid #ccc; padding:10px;\">\n",
    "\n",
    "\n",
    "The model works dose in predicting the true(positive 1, and 0 negative) churners.\n",
    "\n",
    "</div>"
   ]
  },
  {
   "cell_type": "code",
   "execution_count": 74,
   "id": "c680ab41-3a77-439d-a3ac-69952fe8d7c9",
   "metadata": {},
   "outputs": [
    {
     "data": {
      "image/png": "[encoded data removed]",
      "text/plain": [
       "<Figure size 1400x600 with 2 Axes>"
      ]
     },
     "metadata": {},
     "output_type": "display_data"
    }
   ],
   "source": [
    "# Predict using the best model from GridSearchCV\n",
    "xgb_best_pred = grid.predict(X_testset)\n",
    "\n",
    "# Combine actual, predicted, and customer category\n",
    "results_df = pd.DataFrame({\n",
    "    'ActualChurn': Y_testset,\n",
    "    'PredictedChurn': xgb_best_pred,\n",
    "    'CustomerCategory': X_testset['custcat']\n",
    "})\n",
    "\n",
    "# Count actual churns by category\n",
    "actual_churn = results_df.groupby(['CustomerCategory', 'ActualChurn']).size().unstack(fill_value=0)\n",
    "predicted_churn = results_df.groupby(['CustomerCategory', 'PredictedChurn']).size().unstack(fill_value=0)\n",
    "\n",
    "# Plot side-by-side stacked bars\n",
    "fig, axes = plt.subplots(1, 2, figsize=(14, 6), sharey=True)\n",
    "\n",
    "# Actual churn\n",
    "actual_churn.plot(kind='bar', stacked=True, ax=axes[0], color=['skyblue', 'tomato'])\n",
    "axes[0].set_title('Actual Churn by Customer Category')\n",
    "axes[0].set_xlabel('Customer Category')\n",
    "axes[0].set_ylabel('Customer Count')\n",
    "axes[0].legend(['Non-Churned', 'Churned'])\n",
    "axes[0].grid(True)\n",
    "\n",
    "# Predicted churn\n",
    "predicted_churn.plot(kind='bar', stacked=True, ax=axes[1], color=['skyblue', 'tomato'])\n",
    "axes[1].set_title('Predicted Churn by Customer Category (Best Model)')\n",
    "axes[1].set_xlabel('Customer Category')\n",
    "axes[1].legend(['Non-Churned', 'Churned'])\n",
    "axes[1].grid(True)\n",
    "\n",
    "plt.tight_layout()\n",
    "plt.show()\n"
   ]
  },
  {
   "cell_type": "markdown",
   "id": "69119232-6557-4990-ab32-cb656707547f",
   "metadata": {},
   "source": [
    "<div style=\"max-height:300px; overflow-y:auto; border:1px solid #ccc; padding:10px;\">\n",
    "\n",
    "# Insights from the Predicted Churn Chart\n",
    "\n",
    "-The model predicts that customers in Category 1.0 (Basic Service) and Category 4.0 (Total Service) are     more likely to churn.\n",
    "\n",
    "-For Category 3.0 (Plus Service), the predictions are more balanced and closely aligned with the actual     churn data. These customers appear to be more loyal compared to those in Basic and Total Service           categories.\n",
    "\n",
    "-In Category 4.0 (Total Service), the model also predicts a significant churn rate. These are typically     high-value customers, and the prediction seems accurate given the high actual churn rate observed in this  group.\n",
    "\n",
    "</div>"
   ]
  },
  {
   "cell_type": "markdown",
   "id": "e206cd18-ae7a-4fc2-a1fa-17946af27132",
   "metadata": {},
   "source": [
    "Descriptive Statistics by Category"
   ]
  },
  {
   "cell_type": "code",
   "execution_count": 75,
   "id": "2d6966da-8ced-48d9-9b61-8ab9c730c916",
   "metadata": {
    "scrolled": true
   },
   "outputs": [
    {
     "name": "stdout",
     "output_type": "stream",
     "text": [
      "           address        ed     equip  callcard  wireless     voice  \\\n",
      "custcat                                                                \n",
      "1.0       8.100000  3.200000  0.200000  0.400000  0.200000  0.300000   \n",
      "2.0      14.200000  3.250000  0.700000  0.600000  0.100000  0.200000   \n",
      "3.0      14.294118  2.176471  0.294118  0.823529  0.058824  0.117647   \n",
      "4.0       9.384615  3.307692  0.923077  0.923077  1.000000  0.923077   \n",
      "\n",
      "            pager  internet  callwait    confer     ebill    tenure       age  \\\n",
      "custcat                                                                         \n",
      "1.0      0.100000  0.400000  0.100000  0.100000  0.500000 -0.806280 -0.158309   \n",
      "2.0      0.000000  0.550000  0.100000  0.150000  0.550000  0.432903  0.179009   \n",
      "3.0      0.058824  0.352941  0.647059  0.823529  0.176471  0.052905  0.005389   \n",
      "4.0      0.923077  0.769231  0.923077  0.769231  0.923077 -0.622050  0.075808   \n",
      "\n",
      "           income   longmon   logtoll   cardmon    employ  equipmon   wiremon  \\\n",
      "custcat                                                                         \n",
      "1.0     -0.118103 -0.516020 -0.185095 -0.661867 -0.472859 -0.476122 -0.344418   \n",
      "2.0     -0.160644  0.590444 -0.085921 -0.104023  0.008394  0.322519 -0.428761   \n",
      "3.0     -0.034993  0.045823  0.070688  0.056458  0.073570 -0.278210 -0.501696   \n",
      "4.0     -0.196762 -0.511341 -0.224858  0.025231 -0.292066  1.323580  1.255095   \n",
      "\n",
      "          cardten   loglong     lninc   tollmon   longten   tollten     churn  \n",
      "custcat                                                                        \n",
      "1.0     -0.592754 -0.677201 -0.062498 -0.606549 -0.519417 -0.530936  0.200000  \n",
      "2.0      0.112964  0.466604 -0.071956 -0.563292  0.608759 -0.279082  0.300000  \n",
      "3.0      0.025601  0.101539 -0.011069  0.342733  0.048667  0.246018  0.117647  \n",
      "4.0     -0.359883 -0.500450 -0.158340  0.741296 -0.553515  0.113705  0.692308  \n"
     ]
    }
   ],
   "source": [
    "\n",
    "X_testset_copy = X_testset.copy()\n",
    "X_testset_copy['custcat'] = X_testset['custcat']\n",
    "X_testset_copy['churn'] = Y_testset\n",
    "\n",
    "grouped = X_testset_copy.groupby('custcat').mean()\n",
    "print(grouped)\n"
   ]
  },
  {
   "cell_type": "markdown",
   "id": "f7840ebb-bd8d-4eb0-aa38-1acdcaea42cf",
   "metadata": {},
   "source": [
    "<div style=\"max-height:300px; overflow-y:auto; border:1px solid #ccc; padding:10px;\">\n",
    "\n",
    "## diagnostically\n",
    "\n",
    "- Unexpectedly, Customer Category 4.0 (Total Service)\n",
    "  - has limited use of services (longmon, tollmon,loglong , etc.), which is not expected given the high       category segmentation and the presence of internet, e-bill, and equipment features among these             customers. They might be leaving due to problems with the service or dissatisfaction with its quality.     Their short tenure (number of months the customer has been with the company) could support this.\n",
    "\n",
    "- In the same context, Category 1.0 (Basic Service):\n",
    "\n",
    "  - has limited use of services, but this is totally normal and expected based on the short subscription       period (tenure) and the lower usage of services compared to the other three classifications.\n",
    "\n",
    "      \n",
    "</div>"
   ]
  },
  {
   "cell_type": "markdown",
   "id": "7ff381c0-f474-4af6-939b-be66332f07ed",
   "metadata": {},
   "source": [
    "<div style=\"max-height:300px; overflow-y:auto; border:1px solid #ccc; padding:10px;\">\n",
    "\n",
    "### Business Insight Recommendations\n",
    "- Investigate Category 4.0 Churn Causes These are high-value customers with unexpectedly low usage.          Consider surveying them or analyzing service complaints, tenure, and satisfaction scores.\n",
    "\n",
    "- Design Loyalty Programs for Category 3.0 Since Plus Service customers show loyalty, reinforce it with      targeted retention offers or upsell strategies.\n",
    "\n",
    "- Monitor Category 1.0 Behavior Closely Basic Service users churn frequently, but that’s expected. Focus     on onboarding and early engagement to extend tenure and reduce early exits\n",
    "\n",
    "</div>"
   ]
  },
  {
   "cell_type": "markdown",
   "id": "d53feddb-ee81-4f75-99aa-8ec1d3c256c8",
   "metadata": {},
   "source": [
    "### Comments and feedback are welcome."
   ]
  },
  {
   "cell_type": "markdown",
   "id": "a16a48ff-6f9d-457e-b8e1-50d585ae0cab",
   "metadata": {},
   "source": [
    "###  Done By :\n",
    "<a href=\"https://www.linkedin.com/in/almustafahamedtmony/\" target=\"_blank\">Almustafa Hamed</a>\n"
   ]
  },
  {
   "cell_type": "code",
   "execution_count": null,
   "id": "59631717-0914-4545-8baa-b61b488cd42c",
   "metadata": {},
   "outputs": [],
   "source": []
  }
 ],
 "metadata": {
  "kernelspec": {
   "display_name": "Python [conda env:base] *",
   "language": "python",
   "name": "conda-base-py"
  },
  "language_info": {
   "codemirror_mode": {
    "name": "ipython",
    "version": 3
   },
   "file_extension": ".py",
   "mimetype": "text/x-python",
   "name": "python",
   "nbconvert_exporter": "python",
   "pygments_lexer": "ipython3",
   "version": "3.12.7"
  }
 },
 "nbformat": 4,
 "nbformat_minor": 5
}
